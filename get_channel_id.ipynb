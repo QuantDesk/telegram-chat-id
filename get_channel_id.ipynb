{
 "cells": [
  {
   "attachments": {},
   "cell_type": "markdown",
   "metadata": {},
   "source": [
    "1. Create bot with /botFather in telegram\n",
    "2. Get bot token\n",
    "3. Run CODE 1 to get chatid of private channel\n",
    "4. Test chatid in CODE 2"
   ]
  },
  {
   "cell_type": "code",
   "execution_count": null,
   "metadata": {},
   "outputs": [],
   "source": [
    "import requests\n",
    "import time\n",
    "from pprint import pprint\n",
    "TOKEN = \"BOT_TOKEN\"  #Bot Token\n",
    "url = f\"https://api.telegram.org/bot{TOKEN}/getUpdates\"\n",
    "pprint(requests.get(url).json())\n",
    "time.sleep(100)\n",
    "\n",
    "#Expected OP : Chat id "
   ]
  },
  {
   "cell_type": "code",
   "execution_count": null,
   "metadata": {},
   "outputs": [],
   "source": [
    "import requests\n",
    "TOKEN = \"BOT_TOKEN\"\n",
    "chat_id = -111111 #Replace chatid with original chat id\n",
    "message = \"Message to Private Channel\"\n",
    "url = f\"https://api.telegram.org/bot{TOKEN}/sendMessage?chat_id={chat_id}&text={message}\"\n",
    "pprint(requests.get(url).json())"
   ]
  },
  {
   "cell_type": "code",
   "execution_count": null,
   "metadata": {},
   "outputs": [],
   "source": []
  }
 ],
 "metadata": {
  "kernelspec": {
   "display_name": "Python 3",
   "language": "python",
   "name": "python3"
  },
  "language_info": {
   "codemirror_mode": {
    "name": "ipython",
    "version": 3
   },
   "file_extension": ".py",
   "mimetype": "text/x-python",
   "name": "python",
   "nbconvert_exporter": "python",
   "pygments_lexer": "ipython3",
   "version": "3.9.13"
  },
  "orig_nbformat": 4
 },
 "nbformat": 4,
 "nbformat_minor": 2
}
